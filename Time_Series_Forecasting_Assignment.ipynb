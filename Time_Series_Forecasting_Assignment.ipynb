{
  "nbformat": 4,
  "nbformat_minor": 0,
  "metadata": {
    "colab": {
      "name": "Time Series Forecasting Assignment.ipynb",
      "provenance": [],
      "authorship_tag": "ABX9TyMpWMQIZhcTBt+xtSxTF9oU",
      "include_colab_link": true
    },
    "kernelspec": {
      "name": "python3",
      "display_name": "Python 3"
    },
    "language_info": {
      "name": "python"
    }
  },
  "cells": [
    {
      "cell_type": "markdown",
      "metadata": {
        "id": "view-in-github",
        "colab_type": "text"
      },
      "source": [
        "<a href=\"https://colab.research.google.com/github/MbogoriL/time-series-analysis-forecasting/blob/main/Time_Series_Forecasting_Assignment.ipynb\" target=\"_parent\"><img src=\"https://colab.research.google.com/assets/colab-badge.svg\" alt=\"Open In Colab\"/></a>"
      ]
    },
    {
      "cell_type": "markdown",
      "source": [
        "# Problem Statement"
      ],
      "metadata": {
        "id": "TALWEg267kW6"
      }
    },
    {
      "cell_type": "markdown",
      "source": [
        "Sweet Lift Taxi company has collected historical data on taxi orders at airports. To attract more\n",
        "drivers during peak hours, we need to predict the number of taxi orders for the next hour. Build a\n",
        "model for such a prediction.\n",
        "\n"
      ],
      "metadata": {
        "id": "yi3e0vrO7YqU"
      }
    },
    {
      "cell_type": "markdown",
      "source": [
        "# Metric of Success"
      ],
      "metadata": {
        "id": "0xBrg8oi7RII"
      }
    },
    {
      "cell_type": "markdown",
      "source": [
        "The RMSE metric on the test set should not be more than 48."
      ],
      "metadata": {
        "id": "VdsoMfRh8D0W"
      }
    },
    {
      "cell_type": "markdown",
      "source": [
        "# Data Importation"
      ],
      "metadata": {
        "id": "JTYlFKK_8XjC"
      }
    },
    {
      "cell_type": "code",
      "source": [
        "import pandas as pd\n",
        "import numpy as np"
      ],
      "metadata": {
        "id": "26qX70YF8gGn"
      },
      "execution_count": null,
      "outputs": []
    },
    {
      "cell_type": "code",
      "source": [
        "data = pd.read_csv(\"https://bit.ly/3p1QPAv\", index_col=[0], parse_dates=[0])\n",
        "data.head()"
      ],
      "metadata": {
        "colab": {
          "base_uri": "https://localhost:8080/",
          "height": 237
        },
        "id": "ogLmK_xx9Rbk",
        "outputId": "e7996dfd-8e51-42a6-ec28-ba50f1bca599"
      },
      "execution_count": null,
      "outputs": [
        {
          "output_type": "execute_result",
          "data": {
            "text/plain": [
              "                     num_orders\n",
              "datetime                       \n",
              "2018-03-01 00:00:00           9\n",
              "2018-03-01 00:10:00          14\n",
              "2018-03-01 00:20:00          28\n",
              "2018-03-01 00:30:00          20\n",
              "2018-03-01 00:40:00          32"
            ],
            "text/html": [
              "\n",
              "  <div id=\"df-8df75ae8-682f-4166-b4b1-d49b3602a492\">\n",
              "    <div class=\"colab-df-container\">\n",
              "      <div>\n",
              "<style scoped>\n",
              "    .dataframe tbody tr th:only-of-type {\n",
              "        vertical-align: middle;\n",
              "    }\n",
              "\n",
              "    .dataframe tbody tr th {\n",
              "        vertical-align: top;\n",
              "    }\n",
              "\n",
              "    .dataframe thead th {\n",
              "        text-align: right;\n",
              "    }\n",
              "</style>\n",
              "<table border=\"1\" class=\"dataframe\">\n",
              "  <thead>\n",
              "    <tr style=\"text-align: right;\">\n",
              "      <th></th>\n",
              "      <th>num_orders</th>\n",
              "    </tr>\n",
              "    <tr>\n",
              "      <th>datetime</th>\n",
              "      <th></th>\n",
              "    </tr>\n",
              "  </thead>\n",
              "  <tbody>\n",
              "    <tr>\n",
              "      <th>2018-03-01 00:00:00</th>\n",
              "      <td>9</td>\n",
              "    </tr>\n",
              "    <tr>\n",
              "      <th>2018-03-01 00:10:00</th>\n",
              "      <td>14</td>\n",
              "    </tr>\n",
              "    <tr>\n",
              "      <th>2018-03-01 00:20:00</th>\n",
              "      <td>28</td>\n",
              "    </tr>\n",
              "    <tr>\n",
              "      <th>2018-03-01 00:30:00</th>\n",
              "      <td>20</td>\n",
              "    </tr>\n",
              "    <tr>\n",
              "      <th>2018-03-01 00:40:00</th>\n",
              "      <td>32</td>\n",
              "    </tr>\n",
              "  </tbody>\n",
              "</table>\n",
              "</div>\n",
              "      <button class=\"colab-df-convert\" onclick=\"convertToInteractive('df-8df75ae8-682f-4166-b4b1-d49b3602a492')\"\n",
              "              title=\"Convert this dataframe to an interactive table.\"\n",
              "              style=\"display:none;\">\n",
              "        \n",
              "  <svg xmlns=\"http://www.w3.org/2000/svg\" height=\"24px\"viewBox=\"0 0 24 24\"\n",
              "       width=\"24px\">\n",
              "    <path d=\"M0 0h24v24H0V0z\" fill=\"none\"/>\n",
              "    <path d=\"M18.56 5.44l.94 2.06.94-2.06 2.06-.94-2.06-.94-.94-2.06-.94 2.06-2.06.94zm-11 1L8.5 8.5l.94-2.06 2.06-.94-2.06-.94L8.5 2.5l-.94 2.06-2.06.94zm10 10l.94 2.06.94-2.06 2.06-.94-2.06-.94-.94-2.06-.94 2.06-2.06.94z\"/><path d=\"M17.41 7.96l-1.37-1.37c-.4-.4-.92-.59-1.43-.59-.52 0-1.04.2-1.43.59L10.3 9.45l-7.72 7.72c-.78.78-.78 2.05 0 2.83L4 21.41c.39.39.9.59 1.41.59.51 0 1.02-.2 1.41-.59l7.78-7.78 2.81-2.81c.8-.78.8-2.07 0-2.86zM5.41 20L4 18.59l7.72-7.72 1.47 1.35L5.41 20z\"/>\n",
              "  </svg>\n",
              "      </button>\n",
              "      \n",
              "  <style>\n",
              "    .colab-df-container {\n",
              "      display:flex;\n",
              "      flex-wrap:wrap;\n",
              "      gap: 12px;\n",
              "    }\n",
              "\n",
              "    .colab-df-convert {\n",
              "      background-color: #E8F0FE;\n",
              "      border: none;\n",
              "      border-radius: 50%;\n",
              "      cursor: pointer;\n",
              "      display: none;\n",
              "      fill: #1967D2;\n",
              "      height: 32px;\n",
              "      padding: 0 0 0 0;\n",
              "      width: 32px;\n",
              "    }\n",
              "\n",
              "    .colab-df-convert:hover {\n",
              "      background-color: #E2EBFA;\n",
              "      box-shadow: 0px 1px 2px rgba(60, 64, 67, 0.3), 0px 1px 3px 1px rgba(60, 64, 67, 0.15);\n",
              "      fill: #174EA6;\n",
              "    }\n",
              "\n",
              "    [theme=dark] .colab-df-convert {\n",
              "      background-color: #3B4455;\n",
              "      fill: #D2E3FC;\n",
              "    }\n",
              "\n",
              "    [theme=dark] .colab-df-convert:hover {\n",
              "      background-color: #434B5C;\n",
              "      box-shadow: 0px 1px 3px 1px rgba(0, 0, 0, 0.15);\n",
              "      filter: drop-shadow(0px 1px 2px rgba(0, 0, 0, 0.3));\n",
              "      fill: #FFFFFF;\n",
              "    }\n",
              "  </style>\n",
              "\n",
              "      <script>\n",
              "        const buttonEl =\n",
              "          document.querySelector('#df-8df75ae8-682f-4166-b4b1-d49b3602a492 button.colab-df-convert');\n",
              "        buttonEl.style.display =\n",
              "          google.colab.kernel.accessAllowed ? 'block' : 'none';\n",
              "\n",
              "        async function convertToInteractive(key) {\n",
              "          const element = document.querySelector('#df-8df75ae8-682f-4166-b4b1-d49b3602a492');\n",
              "          const dataTable =\n",
              "            await google.colab.kernel.invokeFunction('convertToInteractive',\n",
              "                                                     [key], {});\n",
              "          if (!dataTable) return;\n",
              "\n",
              "          const docLinkHtml = 'Like what you see? Visit the ' +\n",
              "            '<a target=\"_blank\" href=https://colab.research.google.com/notebooks/data_table.ipynb>data table notebook</a>'\n",
              "            + ' to learn more about interactive tables.';\n",
              "          element.innerHTML = '';\n",
              "          dataTable['output_type'] = 'display_data';\n",
              "          await google.colab.output.renderOutput(dataTable, element);\n",
              "          const docLink = document.createElement('div');\n",
              "          docLink.innerHTML = docLinkHtml;\n",
              "          element.appendChild(docLink);\n",
              "        }\n",
              "      </script>\n",
              "    </div>\n",
              "  </div>\n",
              "  "
            ]
          },
          "metadata": {},
          "execution_count": 12
        }
      ]
    },
    {
      "cell_type": "code",
      "source": [
        "data.shape"
      ],
      "metadata": {
        "colab": {
          "base_uri": "https://localhost:8080/"
        },
        "id": "8iGOpfrJ9j2J",
        "outputId": "cec1a336-b623-4296-bae5-5432e7162ee3"
      },
      "execution_count": null,
      "outputs": [
        {
          "output_type": "execute_result",
          "data": {
            "text/plain": [
              "(26496, 2)"
            ]
          },
          "metadata": {},
          "execution_count": 3
        }
      ]
    },
    {
      "cell_type": "code",
      "source": [
        "data.dtypes"
      ],
      "metadata": {
        "colab": {
          "base_uri": "https://localhost:8080/"
        },
        "id": "q49KscRX-BLN",
        "outputId": "1b561460-35cc-4ce7-d92b-e4fcfc25b691"
      },
      "execution_count": null,
      "outputs": [
        {
          "output_type": "execute_result",
          "data": {
            "text/plain": [
              "datetime      datetime64[ns]\n",
              "num_orders             int64\n",
              "dtype: object"
            ]
          },
          "metadata": {},
          "execution_count": 7
        }
      ]
    },
    {
      "cell_type": "code",
      "source": [
        "#make features\n",
        "def make_features(data):\n",
        "    data['year'] = data.index.year\n",
        "    data['month'] = data.index.month\n",
        "    data['day'] = data.index.day\n",
        "    data['dayofweek'] = data.index.dayofweek\n",
        "\n",
        "\n",
        "make_features(data)\n",
        "print(data.head())"
      ],
      "metadata": {
        "colab": {
          "base_uri": "https://localhost:8080/"
        },
        "id": "P6pF8JtKvwBp",
        "outputId": "c00601ac-1a9f-45c1-93b4-1e6b7e894e9b"
      },
      "execution_count": null,
      "outputs": [
        {
          "output_type": "stream",
          "name": "stdout",
          "text": [
            "                     num_orders  year  month  day  dayofweek\n",
            "datetime                                                    \n",
            "2018-03-01 00:00:00           9  2018      3    1          3\n",
            "2018-03-01 00:10:00          14  2018      3    1          3\n",
            "2018-03-01 00:20:00          28  2018      3    1          3\n",
            "2018-03-01 00:30:00          20  2018      3    1          3\n",
            "2018-03-01 00:40:00          32  2018      3    1          3\n"
          ]
        }
      ]
    },
    {
      "cell_type": "code",
      "source": [
        "#make additional features for rolling mean and lag\n",
        "def make_features(data, max_lag, rolling_mean_size):\n",
        "    data['year'] = data.index.year\n",
        "    data['month'] = data.index.month\n",
        "    data['day'] = data.index.day\n",
        "    data['dayofweek'] = data.index.dayofweek\n",
        "\n",
        "    for lag in range(1, max_lag + 1):\n",
        "        data['lag_{}'.format(lag)] = data['num_orders'].shift(lag)\n",
        "\n",
        "    data['rolling_mean'] = (\n",
        "        data['num_orders'].shift().rolling(rolling_mean_size).mean()\n",
        "    )\n",
        "\n",
        "\n",
        "make_features(data, 4, 4)\n",
        "print(data.head())"
      ],
      "metadata": {
        "colab": {
          "base_uri": "https://localhost:8080/"
        },
        "id": "W4VkEI9TwxYp",
        "outputId": "0a5f09f8-c0a0-407e-e8a1-75c3c208d6b3"
      },
      "execution_count": null,
      "outputs": [
        {
          "output_type": "stream",
          "name": "stdout",
          "text": [
            "                     num_orders  year  month  day  dayofweek  lag_1  lag_2  \\\n",
            "datetime                                                                     \n",
            "2018-03-01 00:00:00           9  2018      3    1          3    NaN    NaN   \n",
            "2018-03-01 00:10:00          14  2018      3    1          3    9.0    NaN   \n",
            "2018-03-01 00:20:00          28  2018      3    1          3   14.0    9.0   \n",
            "2018-03-01 00:30:00          20  2018      3    1          3   28.0   14.0   \n",
            "2018-03-01 00:40:00          32  2018      3    1          3   20.0   28.0   \n",
            "\n",
            "                     lag_3  lag_4  rolling_mean  \n",
            "datetime                                         \n",
            "2018-03-01 00:00:00    NaN    NaN           NaN  \n",
            "2018-03-01 00:10:00    NaN    NaN           NaN  \n",
            "2018-03-01 00:20:00    NaN    NaN           NaN  \n",
            "2018-03-01 00:30:00    9.0    NaN           NaN  \n",
            "2018-03-01 00:40:00   14.0    9.0         17.75  \n"
          ]
        }
      ]
    },
    {
      "cell_type": "code",
      "source": [
        "#split dataset into training and test set\n",
        "from sklearn.model_selection import train_test_split\n",
        "\n",
        "data.sort_index(inplace=True)\n",
        "data = data.resample('1D').sum()\n",
        "\n",
        "train, test = train_test_split(data, shuffle=False, test_size=0.2)\n",
        "train = train.dropna()\n",
        "\n",
        "print(train.index.min(), train.index.max())\n",
        "print(test.index.min(), test.index.max())"
      ],
      "metadata": {
        "colab": {
          "base_uri": "https://localhost:8080/"
        },
        "id": "OO3wDL40sR-m",
        "outputId": "6422cba8-2c45-4dca-ba53-82bb2c00af68"
      },
      "execution_count": null,
      "outputs": [
        {
          "output_type": "stream",
          "name": "stdout",
          "text": [
            "2018-03-01 00:00:00 2018-07-25 00:00:00\n",
            "2018-07-26 00:00:00 2018-08-31 00:00:00\n"
          ]
        }
      ]
    },
    {
      "cell_type": "code",
      "source": [
        "#import libraries\n",
        "from sklearn.linear_model import LinearRegression\n",
        "from sklearn.metrics import mean_squared_error\n",
        "\n",
        "#split dataset into features and target\n",
        "features_train = train.drop(['num_orders'], axis=1)\n",
        "target_train = train['num_orders']\n",
        "features_test = test.drop(['num_orders'], axis=1)\n",
        "target_test = test['num_orders']\n",
        "\n",
        "#create instance of ML model\n",
        "model = LinearRegression()\n",
        "\n",
        "#train model\n",
        "model.fit(features_train, target_train)\n",
        "\n",
        "#predictions\n",
        "pred_train = model.predict(features_train)\n",
        "pred_test = model.predict(features_test)\n",
        "\n",
        "#evaluate model performance\n",
        "print(\n",
        "    'RMSE for the training set:', (mean_squared_error(target_train, pred_train)**0.5)\n",
        ")\n",
        "print('RMSE for the test set:', (mean_squared_error(target_test, pred_test)**0.5))\n"
      ],
      "metadata": {
        "colab": {
          "base_uri": "https://localhost:8080/"
        },
        "id": "S8BdfxxJzg32",
        "outputId": "c358b5f4-8554-490a-8484-e15179827252"
      },
      "execution_count": null,
      "outputs": [
        {
          "output_type": "stream",
          "name": "stdout",
          "text": [
            "RMSE for the training set: 9.443673465344261\n",
            "RMSE for the test set: 12.931413406986138\n"
          ]
        }
      ]
    }
  ]
}